{
 "cells": [
  {
   "cell_type": "code",
   "execution_count": 1,
   "metadata": {},
   "outputs": [],
   "source": [
    "import pandas as pd \n",
    "\n",
    "import numpy as np\n",
    "\n",
    "from functools import reduce\n",
    "\n",
    "from datetime import datetime\n",
    "\n",
    "from dateutil import parser\n",
    "\n",
    "import warnings\n",
    "warnings.filterwarnings(\"ignore\")"
   ]
  },
  {
   "cell_type": "code",
   "execution_count": 2,
   "metadata": {},
   "outputs": [],
   "source": [
    "path_data = ''"
   ]
  },
  {
   "cell_type": "code",
   "execution_count": 3,
   "metadata": {},
   "outputs": [],
   "source": [
    "def Import_data(file , typefile = 0):\n",
    "    \n",
    "    if typefile == 0:\n",
    "        df = pd.read_csv(path_data + file, delimiter=\";\", sep=\",\", encoding='Latin-1')\n",
    "    elif typefile == 1:\n",
    "        df = pd.read_csv(path_data + file,  sep=\",\", encoding='Latin-1')\n",
    "    else:\n",
    "        \n",
    "        df = pd.read_csv(path_data + file)\n",
    "        \n",
    "    return df"
   ]
  },
  {
   "cell_type": "code",
   "execution_count": 4,
   "metadata": {},
   "outputs": [],
   "source": [
    "Dm_file = \"Dm3Clean.csv\"\n",
    "Dm = Import_data(Dm_file, typefile=1) "
   ]
  },
  {
   "cell_type": "markdown",
   "metadata": {},
   "source": [
    "## Data manipulation"
   ]
  },
  {
   "cell_type": "markdown",
   "metadata": {},
   "source": [
    "**Working on data types and patient data"
   ]
  },
  {
   "cell_type": "code",
   "execution_count": 5,
   "metadata": {},
   "outputs": [
    {
     "data": {
      "text/plain": [
       "ID_CONSULTATION          float64\n",
       "ID_DIAGNOSTIC_PATIENT    float64\n",
       "DATE_CREATION             object\n",
       "PAT_ID                   float64\n",
       "PAT_SEXE                  object\n",
       "PAT_PROFESSION            object\n",
       "PAT_DATEHNAISSANCE        object\n",
       "POIDS_EDITION            float64\n",
       "ORD_TAILLE_EDITION       float64\n",
       "EXAMEN                    object\n",
       "CONCLUSION                object\n",
       "LIBELLE_x                 object\n",
       "TITRE_x                   object\n",
       "TITRE_y                   object\n",
       "CODE_CIM10                object\n",
       "AGE                      float64\n",
       "BMI                      float64\n",
       "YEAR                       int64\n",
       "visit_summary             object\n",
       "TaS                      float64\n",
       "TaD                      float64\n",
       "Glycemie                 float64\n",
       "RespRate                 float64\n",
       "Albumin                  float64\n",
       "Creatine                 float64\n",
       "dtype: object"
      ]
     },
     "execution_count": 5,
     "metadata": {},
     "output_type": "execute_result"
    }
   ],
   "source": [
    "Dm.dtypes"
   ]
  },
  {
   "cell_type": "code",
   "execution_count": 6,
   "metadata": {},
   "outputs": [],
   "source": [
    "# fixing date\n",
    "def Parser(x):\n",
    "    \n",
    "    if isinstance(x , str) :\n",
    "        \n",
    "        return parser.parse(x)\n",
    "    return x\n",
    "\n",
    "Dm['PAT_DATEHNAISSANCE'] = Dm['PAT_DATEHNAISSANCE'].apply(Parser)\n",
    "Dm['DATE_CREATION'] = Dm['DATE_CREATION'].apply(Parser)"
   ]
  },
  {
   "cell_type": "code",
   "execution_count": 7,
   "metadata": {},
   "outputs": [],
   "source": [
    "#Fixing object\n",
    "string_cols = ['PAT_SEXE','PAT_PROFESSION','EXAMEN','CONCLUSION','LIBELLE_x','TITRE_x','TITRE_y','CODE_CIM10','visit_summary']\n",
    "Dm = Dm.astype({col : \"string\" for col in string_cols} )"
   ]
  },
  {
   "cell_type": "code",
   "execution_count": 8,
   "metadata": {
    "scrolled": true
   },
   "outputs": [
    {
     "name": "stdout",
     "output_type": "stream",
     "text": [
      "<class 'pandas.core.frame.DataFrame'>\n",
      "RangeIndex: 104161 entries, 0 to 104160\n",
      "Data columns (total 25 columns):\n",
      " #   Column                 Non-Null Count   Dtype         \n",
      "---  ------                 --------------   -----         \n",
      " 0   ID_CONSULTATION        104161 non-null  float64       \n",
      " 1   ID_DIAGNOSTIC_PATIENT  104161 non-null  float64       \n",
      " 2   DATE_CREATION          104161 non-null  datetime64[ns]\n",
      " 3   PAT_ID                 104161 non-null  float64       \n",
      " 4   PAT_SEXE               104161 non-null  string        \n",
      " 5   PAT_PROFESSION         104161 non-null  string        \n",
      " 6   PAT_DATEHNAISSANCE     104161 non-null  datetime64[ns]\n",
      " 7   POIDS_EDITION          10198 non-null   float64       \n",
      " 8   ORD_TAILLE_EDITION     841 non-null     float64       \n",
      " 9   EXAMEN                 75290 non-null   string        \n",
      " 10  CONCLUSION             11058 non-null   string        \n",
      " 11  LIBELLE_x              104161 non-null  string        \n",
      " 12  TITRE_x                7925 non-null    string        \n",
      " 13  TITRE_y                104161 non-null  string        \n",
      " 14  CODE_CIM10             104161 non-null  string        \n",
      " 15  AGE                    104161 non-null  float64       \n",
      " 16  BMI                    26205 non-null   float64       \n",
      " 17  YEAR                   104161 non-null  int64         \n",
      " 18  visit_summary          58027 non-null   string        \n",
      " 19  TaS                    38013 non-null   float64       \n",
      " 20  TaD                    38013 non-null   float64       \n",
      " 21  Glycemie               19240 non-null   float64       \n",
      " 22  RespRate               12406 non-null   float64       \n",
      " 23  Albumin                6904 non-null    float64       \n",
      " 24  Creatine               4795 non-null    float64       \n",
      "dtypes: datetime64[ns](2), float64(13), int64(1), string(9)\n",
      "memory usage: 19.9 MB\n"
     ]
    }
   ],
   "source": [
    "Dm.info()"
   ]
  },
  {
   "cell_type": "code",
   "execution_count": 9,
   "metadata": {},
   "outputs": [
    {
     "data": {
      "text/html": [
       "<div>\n",
       "<style scoped>\n",
       "    .dataframe tbody tr th:only-of-type {\n",
       "        vertical-align: middle;\n",
       "    }\n",
       "\n",
       "    .dataframe tbody tr th {\n",
       "        vertical-align: top;\n",
       "    }\n",
       "\n",
       "    .dataframe thead th {\n",
       "        text-align: right;\n",
       "    }\n",
       "</style>\n",
       "<table border=\"1\" class=\"dataframe\">\n",
       "  <thead>\n",
       "    <tr style=\"text-align: right;\">\n",
       "      <th></th>\n",
       "      <th>count</th>\n",
       "      <th>mean</th>\n",
       "      <th>std</th>\n",
       "      <th>min</th>\n",
       "      <th>25%</th>\n",
       "      <th>50%</th>\n",
       "      <th>75%</th>\n",
       "      <th>max</th>\n",
       "    </tr>\n",
       "  </thead>\n",
       "  <tbody>\n",
       "    <tr>\n",
       "      <th>ID_CONSULTATION</th>\n",
       "      <td>104161.0</td>\n",
       "      <td>81.877006</td>\n",
       "      <td>86.049209</td>\n",
       "      <td>1.001000</td>\n",
       "      <td>18.759</td>\n",
       "      <td>45.875</td>\n",
       "      <td>130.074</td>\n",
       "      <td>972.0</td>\n",
       "    </tr>\n",
       "    <tr>\n",
       "      <th>ID_DIAGNOSTIC_PATIENT</th>\n",
       "      <td>104161.0</td>\n",
       "      <td>25.456314</td>\n",
       "      <td>101.019950</td>\n",
       "      <td>1.000000</td>\n",
       "      <td>6.066</td>\n",
       "      <td>8.974</td>\n",
       "      <td>13.729</td>\n",
       "      <td>999.0</td>\n",
       "    </tr>\n",
       "    <tr>\n",
       "      <th>PAT_ID</th>\n",
       "      <td>104161.0</td>\n",
       "      <td>31.795155</td>\n",
       "      <td>78.909605</td>\n",
       "      <td>1.003000</td>\n",
       "      <td>8.208</td>\n",
       "      <td>14.695</td>\n",
       "      <td>28.253</td>\n",
       "      <td>983.0</td>\n",
       "    </tr>\n",
       "    <tr>\n",
       "      <th>POIDS_EDITION</th>\n",
       "      <td>10198.0</td>\n",
       "      <td>30.345504</td>\n",
       "      <td>28.951243</td>\n",
       "      <td>1.000000</td>\n",
       "      <td>9.800</td>\n",
       "      <td>15.000</td>\n",
       "      <td>55.000</td>\n",
       "      <td>140.0</td>\n",
       "    </tr>\n",
       "    <tr>\n",
       "      <th>ORD_TAILLE_EDITION</th>\n",
       "      <td>841.0</td>\n",
       "      <td>155.034483</td>\n",
       "      <td>27.865408</td>\n",
       "      <td>22.000000</td>\n",
       "      <td>159.000</td>\n",
       "      <td>162.000</td>\n",
       "      <td>170.000</td>\n",
       "      <td>193.0</td>\n",
       "    </tr>\n",
       "    <tr>\n",
       "      <th>AGE</th>\n",
       "      <td>104161.0</td>\n",
       "      <td>51.402300</td>\n",
       "      <td>18.100071</td>\n",
       "      <td>2.000000</td>\n",
       "      <td>42.000</td>\n",
       "      <td>54.000</td>\n",
       "      <td>64.000</td>\n",
       "      <td>102.0</td>\n",
       "    </tr>\n",
       "    <tr>\n",
       "      <th>BMI</th>\n",
       "      <td>26205.0</td>\n",
       "      <td>33.324158</td>\n",
       "      <td>6.577073</td>\n",
       "      <td>0.036364</td>\n",
       "      <td>32.000</td>\n",
       "      <td>35.000</td>\n",
       "      <td>37.000</td>\n",
       "      <td>39.0</td>\n",
       "    </tr>\n",
       "    <tr>\n",
       "      <th>YEAR</th>\n",
       "      <td>104161.0</td>\n",
       "      <td>2017.394015</td>\n",
       "      <td>1.114698</td>\n",
       "      <td>2015.000000</td>\n",
       "      <td>2016.000</td>\n",
       "      <td>2017.000</td>\n",
       "      <td>2018.000</td>\n",
       "      <td>2020.0</td>\n",
       "    </tr>\n",
       "    <tr>\n",
       "      <th>TaS</th>\n",
       "      <td>38013.0</td>\n",
       "      <td>172.417647</td>\n",
       "      <td>15.899558</td>\n",
       "      <td>136.000000</td>\n",
       "      <td>160.000</td>\n",
       "      <td>179.000</td>\n",
       "      <td>185.000</td>\n",
       "      <td>191.0</td>\n",
       "    </tr>\n",
       "    <tr>\n",
       "      <th>TaD</th>\n",
       "      <td>38013.0</td>\n",
       "      <td>110.395704</td>\n",
       "      <td>18.108523</td>\n",
       "      <td>13.100000</td>\n",
       "      <td>96.000</td>\n",
       "      <td>105.000</td>\n",
       "      <td>126.000</td>\n",
       "      <td>138.0</td>\n",
       "    </tr>\n",
       "    <tr>\n",
       "      <th>Glycemie</th>\n",
       "      <td>19240.0</td>\n",
       "      <td>8.498586</td>\n",
       "      <td>2.131477</td>\n",
       "      <td>6.600000</td>\n",
       "      <td>7.000</td>\n",
       "      <td>7.400</td>\n",
       "      <td>10.300</td>\n",
       "      <td>13.4</td>\n",
       "    </tr>\n",
       "    <tr>\n",
       "      <th>RespRate</th>\n",
       "      <td>12406.0</td>\n",
       "      <td>18.288248</td>\n",
       "      <td>4.711262</td>\n",
       "      <td>10.000000</td>\n",
       "      <td>15.000</td>\n",
       "      <td>18.000</td>\n",
       "      <td>22.000</td>\n",
       "      <td>28.0</td>\n",
       "    </tr>\n",
       "    <tr>\n",
       "      <th>Albumin</th>\n",
       "      <td>6904.0</td>\n",
       "      <td>3.491845</td>\n",
       "      <td>1.275721</td>\n",
       "      <td>2.400000</td>\n",
       "      <td>2.600</td>\n",
       "      <td>2.900</td>\n",
       "      <td>3.200</td>\n",
       "      <td>6.1</td>\n",
       "    </tr>\n",
       "    <tr>\n",
       "      <th>Creatine</th>\n",
       "      <td>4795.0</td>\n",
       "      <td>1.269923</td>\n",
       "      <td>0.025139</td>\n",
       "      <td>1.200000</td>\n",
       "      <td>1.260</td>\n",
       "      <td>1.270</td>\n",
       "      <td>1.290</td>\n",
       "      <td>1.3</td>\n",
       "    </tr>\n",
       "  </tbody>\n",
       "</table>\n",
       "</div>"
      ],
      "text/plain": [
       "                          count         mean         std          min  \\\n",
       "ID_CONSULTATION        104161.0    81.877006   86.049209     1.001000   \n",
       "ID_DIAGNOSTIC_PATIENT  104161.0    25.456314  101.019950     1.000000   \n",
       "PAT_ID                 104161.0    31.795155   78.909605     1.003000   \n",
       "POIDS_EDITION           10198.0    30.345504   28.951243     1.000000   \n",
       "ORD_TAILLE_EDITION        841.0   155.034483   27.865408    22.000000   \n",
       "AGE                    104161.0    51.402300   18.100071     2.000000   \n",
       "BMI                     26205.0    33.324158    6.577073     0.036364   \n",
       "YEAR                   104161.0  2017.394015    1.114698  2015.000000   \n",
       "TaS                     38013.0   172.417647   15.899558   136.000000   \n",
       "TaD                     38013.0   110.395704   18.108523    13.100000   \n",
       "Glycemie                19240.0     8.498586    2.131477     6.600000   \n",
       "RespRate                12406.0    18.288248    4.711262    10.000000   \n",
       "Albumin                  6904.0     3.491845    1.275721     2.400000   \n",
       "Creatine                 4795.0     1.269923    0.025139     1.200000   \n",
       "\n",
       "                            25%       50%       75%     max  \n",
       "ID_CONSULTATION          18.759    45.875   130.074   972.0  \n",
       "ID_DIAGNOSTIC_PATIENT     6.066     8.974    13.729   999.0  \n",
       "PAT_ID                    8.208    14.695    28.253   983.0  \n",
       "POIDS_EDITION             9.800    15.000    55.000   140.0  \n",
       "ORD_TAILLE_EDITION      159.000   162.000   170.000   193.0  \n",
       "AGE                      42.000    54.000    64.000   102.0  \n",
       "BMI                      32.000    35.000    37.000    39.0  \n",
       "YEAR                   2016.000  2017.000  2018.000  2020.0  \n",
       "TaS                     160.000   179.000   185.000   191.0  \n",
       "TaD                      96.000   105.000   126.000   138.0  \n",
       "Glycemie                  7.000     7.400    10.300    13.4  \n",
       "RespRate                 15.000    18.000    22.000    28.0  \n",
       "Albumin                   2.600     2.900     3.200     6.1  \n",
       "Creatine                  1.260     1.270     1.290     1.3  "
      ]
     },
     "execution_count": 9,
     "metadata": {},
     "output_type": "execute_result"
    }
   ],
   "source": [
    "Dm.describe().T"
   ]
  },
  {
   "cell_type": "code",
   "execution_count": 10,
   "metadata": {},
   "outputs": [
    {
     "data": {
      "text/plain": [
       "(104161, 25)"
      ]
     },
     "execution_count": 10,
     "metadata": {},
     "output_type": "execute_result"
    }
   ],
   "source": [
    "Dm.shape"
   ]
  },
  {
   "cell_type": "code",
   "execution_count": 11,
   "metadata": {},
   "outputs": [
    {
     "data": {
      "text/plain": [
       "Index(['ID_CONSULTATION', 'ID_DIAGNOSTIC_PATIENT', 'DATE_CREATION', 'PAT_ID',\n",
       "       'PAT_SEXE', 'PAT_PROFESSION', 'PAT_DATEHNAISSANCE', 'POIDS_EDITION',\n",
       "       'ORD_TAILLE_EDITION', 'EXAMEN', 'CONCLUSION', 'LIBELLE_x', 'TITRE_x',\n",
       "       'TITRE_y', 'CODE_CIM10', 'AGE', 'BMI', 'YEAR', 'visit_summary', 'TaS',\n",
       "       'TaD', 'Glycemie', 'RespRate', 'Albumin', 'Creatine'],\n",
       "      dtype='object')"
      ]
     },
     "execution_count": 11,
     "metadata": {},
     "output_type": "execute_result"
    }
   ],
   "source": [
    "Dm.columns"
   ]
  },
  {
   "cell_type": "code",
   "execution_count": 12,
   "metadata": {},
   "outputs": [],
   "source": [
    "Num_dm = Dm[['AGE', 'BMI', 'TaS', 'TaD', 'Glycemie', 'RespRate', 'Albumin', 'Creatine']]"
   ]
  },
  {
   "cell_type": "code",
   "execution_count": 13,
   "metadata": {},
   "outputs": [],
   "source": [
    "## here i think it is better to get rid of all columns which have big numbers of nan values because they will affect the model negatively"
   ]
  },
  {
   "cell_type": "code",
   "execution_count": 14,
   "metadata": {},
   "outputs": [
    {
     "data": {
      "text/plain": [
       "ID_CONSULTATION               0\n",
       "ID_DIAGNOSTIC_PATIENT         0\n",
       "DATE_CREATION                 0\n",
       "PAT_ID                        0\n",
       "PAT_SEXE                      0\n",
       "PAT_PROFESSION                0\n",
       "PAT_DATEHNAISSANCE            0\n",
       "POIDS_EDITION             93963\n",
       "ORD_TAILLE_EDITION       103320\n",
       "EXAMEN                    28871\n",
       "CONCLUSION                93103\n",
       "LIBELLE_x                     0\n",
       "TITRE_x                   96236\n",
       "TITRE_y                       0\n",
       "CODE_CIM10                    0\n",
       "AGE                           0\n",
       "BMI                       77956\n",
       "YEAR                          0\n",
       "visit_summary             46134\n",
       "TaS                       66148\n",
       "TaD                       66148\n",
       "Glycemie                  84921\n",
       "RespRate                  91755\n",
       "Albumin                   97257\n",
       "Creatine                  99366\n",
       "dtype: int64"
      ]
     },
     "execution_count": 14,
     "metadata": {},
     "output_type": "execute_result"
    }
   ],
   "source": [
    "Dm.isnull().sum()"
   ]
  },
  {
   "cell_type": "code",
   "execution_count": 15,
   "metadata": {},
   "outputs": [],
   "source": [
    "## i am not sure if this is gonna work because some of the columns you add 0 instead of nan value are strings !!!"
   ]
  },
  {
   "cell_type": "code",
   "execution_count": 16,
   "metadata": {},
   "outputs": [
    {
     "data": {
      "text/html": [
       "<div>\n",
       "<style scoped>\n",
       "    .dataframe tbody tr th:only-of-type {\n",
       "        vertical-align: middle;\n",
       "    }\n",
       "\n",
       "    .dataframe tbody tr th {\n",
       "        vertical-align: top;\n",
       "    }\n",
       "\n",
       "    .dataframe thead th {\n",
       "        text-align: right;\n",
       "    }\n",
       "</style>\n",
       "<table border=\"1\" class=\"dataframe\">\n",
       "  <thead>\n",
       "    <tr style=\"text-align: right;\">\n",
       "      <th></th>\n",
       "      <th>ID_CONSULTATION</th>\n",
       "      <th>ID_DIAGNOSTIC_PATIENT</th>\n",
       "      <th>DATE_CREATION</th>\n",
       "      <th>PAT_ID</th>\n",
       "      <th>PAT_SEXE</th>\n",
       "      <th>PAT_PROFESSION</th>\n",
       "      <th>PAT_DATEHNAISSANCE</th>\n",
       "      <th>POIDS_EDITION</th>\n",
       "      <th>ORD_TAILLE_EDITION</th>\n",
       "      <th>EXAMEN</th>\n",
       "      <th>...</th>\n",
       "      <th>AGE</th>\n",
       "      <th>BMI</th>\n",
       "      <th>YEAR</th>\n",
       "      <th>visit_summary</th>\n",
       "      <th>TaS</th>\n",
       "      <th>TaD</th>\n",
       "      <th>Glycemie</th>\n",
       "      <th>RespRate</th>\n",
       "      <th>Albumin</th>\n",
       "      <th>Creatine</th>\n",
       "    </tr>\n",
       "  </thead>\n",
       "  <tbody>\n",
       "    <tr>\n",
       "      <th>0</th>\n",
       "      <td>148.244</td>\n",
       "      <td>14.536</td>\n",
       "      <td>2015-03-12 09:01:00</td>\n",
       "      <td>42.00</td>\n",
       "      <td>M</td>\n",
       "      <td>enseignant/enseignante</td>\n",
       "      <td>1957-01-01</td>\n",
       "      <td>0</td>\n",
       "      <td>0</td>\n",
       "      <td>0</td>\n",
       "      <td>...</td>\n",
       "      <td>58.0</td>\n",
       "      <td>0</td>\n",
       "      <td>2015</td>\n",
       "      <td>0</td>\n",
       "      <td>0</td>\n",
       "      <td>0</td>\n",
       "      <td>0</td>\n",
       "      <td>0</td>\n",
       "      <td>0</td>\n",
       "      <td>0</td>\n",
       "    </tr>\n",
       "    <tr>\n",
       "      <th>1</th>\n",
       "      <td>131.368</td>\n",
       "      <td>13.387</td>\n",
       "      <td>2015-05-12 07:50:00</td>\n",
       "      <td>44.00</td>\n",
       "      <td>M</td>\n",
       "      <td>ONEAD</td>\n",
       "      <td>1974-01-01</td>\n",
       "      <td>0</td>\n",
       "      <td>0</td>\n",
       "      <td>0</td>\n",
       "      <td>...</td>\n",
       "      <td>41.0</td>\n",
       "      <td>0</td>\n",
       "      <td>2015</td>\n",
       "      <td>Le patient se plain de plus en plus d'essouffl...</td>\n",
       "      <td>0</td>\n",
       "      <td>0</td>\n",
       "      <td>0</td>\n",
       "      <td>10</td>\n",
       "      <td>0</td>\n",
       "      <td>0</td>\n",
       "    </tr>\n",
       "    <tr>\n",
       "      <th>2</th>\n",
       "      <td>34.000</td>\n",
       "      <td>5.000</td>\n",
       "      <td>2015-06-12 08:37:00</td>\n",
       "      <td>50.00</td>\n",
       "      <td>M</td>\n",
       "      <td>Djibtelcom</td>\n",
       "      <td>1944-01-01</td>\n",
       "      <td>0</td>\n",
       "      <td>0</td>\n",
       "      <td>diabÃÂÃÂÃÂÃÂÃÂÃÂÃÂÃÂ¨te suivi</td>\n",
       "      <td>...</td>\n",
       "      <td>71.0</td>\n",
       "      <td>25</td>\n",
       "      <td>2015</td>\n",
       "      <td>Urination frÃ©quente pendant la nuit selon le ...</td>\n",
       "      <td>137</td>\n",
       "      <td>80</td>\n",
       "      <td>7.9</td>\n",
       "      <td>0</td>\n",
       "      <td>0</td>\n",
       "      <td>0</td>\n",
       "    </tr>\n",
       "    <tr>\n",
       "      <th>3</th>\n",
       "      <td>39.822</td>\n",
       "      <td>8.101</td>\n",
       "      <td>2015-06-12 09:09:00</td>\n",
       "      <td>51.00</td>\n",
       "      <td>M</td>\n",
       "      <td>SGTD</td>\n",
       "      <td>1965-01-01</td>\n",
       "      <td>0</td>\n",
       "      <td>0</td>\n",
       "      <td>renouvellement traitement</td>\n",
       "      <td>...</td>\n",
       "      <td>50.0</td>\n",
       "      <td>38</td>\n",
       "      <td>2015</td>\n",
       "      <td>Plaies Ã  guÃ©rison lente sur le pied gauche (...</td>\n",
       "      <td>150</td>\n",
       "      <td>96</td>\n",
       "      <td>7.5</td>\n",
       "      <td>0</td>\n",
       "      <td>0</td>\n",
       "      <td>0</td>\n",
       "    </tr>\n",
       "    <tr>\n",
       "      <th>4</th>\n",
       "      <td>155.062</td>\n",
       "      <td>14.989</td>\n",
       "      <td>2015-06-12 09:19:00</td>\n",
       "      <td>52.00</td>\n",
       "      <td>M</td>\n",
       "      <td>budget</td>\n",
       "      <td>1936-01-01</td>\n",
       "      <td>0</td>\n",
       "      <td>0</td>\n",
       "      <td>0</td>\n",
       "      <td>...</td>\n",
       "      <td>79.0</td>\n",
       "      <td>0</td>\n",
       "      <td>2015</td>\n",
       "      <td>0</td>\n",
       "      <td>0</td>\n",
       "      <td>0</td>\n",
       "      <td>0</td>\n",
       "      <td>0</td>\n",
       "      <td>0</td>\n",
       "      <td>0</td>\n",
       "    </tr>\n",
       "    <tr>\n",
       "      <th>...</th>\n",
       "      <td>...</td>\n",
       "      <td>...</td>\n",
       "      <td>...</td>\n",
       "      <td>...</td>\n",
       "      <td>...</td>\n",
       "      <td>...</td>\n",
       "      <td>...</td>\n",
       "      <td>...</td>\n",
       "      <td>...</td>\n",
       "      <td>...</td>\n",
       "      <td>...</td>\n",
       "      <td>...</td>\n",
       "      <td>...</td>\n",
       "      <td>...</td>\n",
       "      <td>...</td>\n",
       "      <td>...</td>\n",
       "      <td>...</td>\n",
       "      <td>...</td>\n",
       "      <td>...</td>\n",
       "      <td>...</td>\n",
       "      <td>...</td>\n",
       "    </tr>\n",
       "    <tr>\n",
       "      <th>104156</th>\n",
       "      <td>15.491</td>\n",
       "      <td>4.426</td>\n",
       "      <td>2020-12-02 15:49:00</td>\n",
       "      <td>10.02</td>\n",
       "      <td>M</td>\n",
       "      <td>EAD</td>\n",
       "      <td>1980-05-08</td>\n",
       "      <td>0</td>\n",
       "      <td>0</td>\n",
       "      <td>0</td>\n",
       "      <td>...</td>\n",
       "      <td>40.0</td>\n",
       "      <td>0</td>\n",
       "      <td>2020</td>\n",
       "      <td>Le patient constate un essoufflement Ã  l'effo...</td>\n",
       "      <td>0</td>\n",
       "      <td>0</td>\n",
       "      <td>0</td>\n",
       "      <td>24</td>\n",
       "      <td>0</td>\n",
       "      <td>0</td>\n",
       "    </tr>\n",
       "    <tr>\n",
       "      <th>104157</th>\n",
       "      <td>21.463</td>\n",
       "      <td>6.156</td>\n",
       "      <td>2020-12-02 15:54:00</td>\n",
       "      <td>12.25</td>\n",
       "      <td>M</td>\n",
       "      <td>SGTD</td>\n",
       "      <td>1974-01-01</td>\n",
       "      <td>0</td>\n",
       "      <td>0</td>\n",
       "      <td>CRISE ASTHME</td>\n",
       "      <td>...</td>\n",
       "      <td>46.0</td>\n",
       "      <td>0</td>\n",
       "      <td>2020</td>\n",
       "      <td>Le patient constate un essoufflement Ã  l'effo...</td>\n",
       "      <td>0</td>\n",
       "      <td>0</td>\n",
       "      <td>0</td>\n",
       "      <td>10</td>\n",
       "      <td>0</td>\n",
       "      <td>0</td>\n",
       "    </tr>\n",
       "    <tr>\n",
       "      <th>104158</th>\n",
       "      <td>389.000</td>\n",
       "      <td>113.000</td>\n",
       "      <td>2020-12-02 15:56:00</td>\n",
       "      <td>499.00</td>\n",
       "      <td>F</td>\n",
       "      <td>DCT</td>\n",
       "      <td>1953-01-01</td>\n",
       "      <td>0</td>\n",
       "      <td>0</td>\n",
       "      <td>douleur abdominale;douleur du genou;douleur Ã...</td>\n",
       "      <td>...</td>\n",
       "      <td>67.0</td>\n",
       "      <td>0</td>\n",
       "      <td>2020</td>\n",
       "      <td>0</td>\n",
       "      <td>0</td>\n",
       "      <td>0</td>\n",
       "      <td>0</td>\n",
       "      <td>0</td>\n",
       "      <td>0</td>\n",
       "      <td>0</td>\n",
       "    </tr>\n",
       "    <tr>\n",
       "      <th>104159</th>\n",
       "      <td>13.739</td>\n",
       "      <td>3.949</td>\n",
       "      <td>2020-12-02 15:56:00</td>\n",
       "      <td>499.00</td>\n",
       "      <td>F</td>\n",
       "      <td>ministÃÂ¨re interieur</td>\n",
       "      <td>1953-01-01</td>\n",
       "      <td>0</td>\n",
       "      <td>0</td>\n",
       "      <td>0</td>\n",
       "      <td>...</td>\n",
       "      <td>67.0</td>\n",
       "      <td>35</td>\n",
       "      <td>2020</td>\n",
       "      <td>Beaucoup de picotements ou engourdissement dan...</td>\n",
       "      <td>160</td>\n",
       "      <td>90</td>\n",
       "      <td>7.6</td>\n",
       "      <td>0</td>\n",
       "      <td>0</td>\n",
       "      <td>0</td>\n",
       "    </tr>\n",
       "    <tr>\n",
       "      <th>104160</th>\n",
       "      <td>13.739</td>\n",
       "      <td>3.950</td>\n",
       "      <td>2020-12-02 15:56:00</td>\n",
       "      <td>499.00</td>\n",
       "      <td>F</td>\n",
       "      <td>Dahabshiil</td>\n",
       "      <td>1953-01-01</td>\n",
       "      <td>0</td>\n",
       "      <td>0</td>\n",
       "      <td>0</td>\n",
       "      <td>...</td>\n",
       "      <td>67.0</td>\n",
       "      <td>0</td>\n",
       "      <td>2020</td>\n",
       "      <td>0</td>\n",
       "      <td>0</td>\n",
       "      <td>0</td>\n",
       "      <td>0</td>\n",
       "      <td>0</td>\n",
       "      <td>0</td>\n",
       "      <td>0</td>\n",
       "    </tr>\n",
       "  </tbody>\n",
       "</table>\n",
       "<p>104161 rows × 25 columns</p>\n",
       "</div>"
      ],
      "text/plain": [
       "        ID_CONSULTATION  ID_DIAGNOSTIC_PATIENT       DATE_CREATION  PAT_ID  \\\n",
       "0               148.244                 14.536 2015-03-12 09:01:00   42.00   \n",
       "1               131.368                 13.387 2015-05-12 07:50:00   44.00   \n",
       "2                34.000                  5.000 2015-06-12 08:37:00   50.00   \n",
       "3                39.822                  8.101 2015-06-12 09:09:00   51.00   \n",
       "4               155.062                 14.989 2015-06-12 09:19:00   52.00   \n",
       "...                 ...                    ...                 ...     ...   \n",
       "104156           15.491                  4.426 2020-12-02 15:49:00   10.02   \n",
       "104157           21.463                  6.156 2020-12-02 15:54:00   12.25   \n",
       "104158          389.000                113.000 2020-12-02 15:56:00  499.00   \n",
       "104159           13.739                  3.949 2020-12-02 15:56:00  499.00   \n",
       "104160           13.739                  3.950 2020-12-02 15:56:00  499.00   \n",
       "\n",
       "       PAT_SEXE          PAT_PROFESSION PAT_DATEHNAISSANCE POIDS_EDITION  \\\n",
       "0             M  enseignant/enseignante         1957-01-01             0   \n",
       "1             M                   ONEAD         1974-01-01             0   \n",
       "2             M              Djibtelcom         1944-01-01             0   \n",
       "3             M                    SGTD         1965-01-01             0   \n",
       "4             M                  budget         1936-01-01             0   \n",
       "...         ...                     ...                ...           ...   \n",
       "104156        M                     EAD         1980-05-08             0   \n",
       "104157        M                    SGTD         1974-01-01             0   \n",
       "104158        F                     DCT         1953-01-01             0   \n",
       "104159        F  ministÃÂ¨re interieur         1953-01-01             0   \n",
       "104160        F              Dahabshiil         1953-01-01             0   \n",
       "\n",
       "       ORD_TAILLE_EDITION                                             EXAMEN  \\\n",
       "0                       0                                                  0   \n",
       "1                       0                                                  0   \n",
       "2                       0       diabÃÂÃÂÃÂÃÂÃÂÃÂÃÂÃÂ¨te suivi   \n",
       "3                       0                          renouvellement traitement   \n",
       "4                       0                                                  0   \n",
       "...                   ...                                                ...   \n",
       "104156                  0                                                  0   \n",
       "104157                  0                                       CRISE ASTHME   \n",
       "104158                  0  douleur abdominale;douleur du genou;douleur Ã...   \n",
       "104159                  0                                                  0   \n",
       "104160                  0                                                  0   \n",
       "\n",
       "        ...   AGE BMI  YEAR  \\\n",
       "0       ...  58.0   0  2015   \n",
       "1       ...  41.0   0  2015   \n",
       "2       ...  71.0  25  2015   \n",
       "3       ...  50.0  38  2015   \n",
       "4       ...  79.0   0  2015   \n",
       "...     ...   ...  ..   ...   \n",
       "104156  ...  40.0   0  2020   \n",
       "104157  ...  46.0   0  2020   \n",
       "104158  ...  67.0   0  2020   \n",
       "104159  ...  67.0  35  2020   \n",
       "104160  ...  67.0   0  2020   \n",
       "\n",
       "                                            visit_summary  TaS  TaD Glycemie  \\\n",
       "0                                                       0    0    0        0   \n",
       "1       Le patient se plain de plus en plus d'essouffl...    0    0        0   \n",
       "2       Urination frÃ©quente pendant la nuit selon le ...  137   80      7.9   \n",
       "3       Plaies Ã  guÃ©rison lente sur le pied gauche (...  150   96      7.5   \n",
       "4                                                       0    0    0        0   \n",
       "...                                                   ...  ...  ...      ...   \n",
       "104156  Le patient constate un essoufflement Ã  l'effo...    0    0        0   \n",
       "104157  Le patient constate un essoufflement Ã  l'effo...    0    0        0   \n",
       "104158                                                  0    0    0        0   \n",
       "104159  Beaucoup de picotements ou engourdissement dan...  160   90      7.6   \n",
       "104160                                                  0    0    0        0   \n",
       "\n",
       "        RespRate Albumin Creatine  \n",
       "0              0       0        0  \n",
       "1             10       0        0  \n",
       "2              0       0        0  \n",
       "3              0       0        0  \n",
       "4              0       0        0  \n",
       "...          ...     ...      ...  \n",
       "104156        24       0        0  \n",
       "104157        10       0        0  \n",
       "104158         0       0        0  \n",
       "104159         0       0        0  \n",
       "104160         0       0        0  \n",
       "\n",
       "[104161 rows x 25 columns]"
      ]
     },
     "execution_count": 16,
     "metadata": {},
     "output_type": "execute_result"
    }
   ],
   "source": [
    "Dm.fillna('0')"
   ]
  },
  {
   "cell_type": "code",
   "execution_count": 17,
   "metadata": {},
   "outputs": [
    {
     "data": {
      "text/plain": [
       "ID_CONSULTATION               0\n",
       "ID_DIAGNOSTIC_PATIENT         0\n",
       "DATE_CREATION                 0\n",
       "PAT_ID                        0\n",
       "PAT_SEXE                      0\n",
       "PAT_PROFESSION                0\n",
       "PAT_DATEHNAISSANCE            0\n",
       "POIDS_EDITION             93963\n",
       "ORD_TAILLE_EDITION       103320\n",
       "EXAMEN                    28871\n",
       "CONCLUSION                93103\n",
       "LIBELLE_x                     0\n",
       "TITRE_x                   96236\n",
       "TITRE_y                       0\n",
       "CODE_CIM10                    0\n",
       "AGE                           0\n",
       "BMI                       77956\n",
       "YEAR                          0\n",
       "visit_summary             46134\n",
       "TaS                       66148\n",
       "TaD                       66148\n",
       "Glycemie                  84921\n",
       "RespRate                  91755\n",
       "Albumin                   97257\n",
       "Creatine                  99366\n",
       "dtype: int64"
      ]
     },
     "execution_count": 17,
     "metadata": {},
     "output_type": "execute_result"
    }
   ],
   "source": [
    "Dm.isnull().sum()"
   ]
  },
  {
   "cell_type": "code",
   "execution_count": 18,
   "metadata": {},
   "outputs": [],
   "source": [
    "Dm['EXAMEN'] = Dm['EXAMEN'].astype(str)\n",
    "Dm['CONCLUSION'] = Dm['CONCLUSION'].astype(str)\n",
    "Dm['TITRE_x'] = Dm['TITRE_x'].astype(str)\n",
    "Dm['TITRE_y'] = Dm['TITRE_y'].astype(str)\n",
    "Dm['CODE_CIM10'] = Dm['CODE_CIM10'].astype(str)\n",
    "Dm['visit_summary'] = Dm['visit_summary'].astype(str)"
   ]
  },
  {
   "cell_type": "code",
   "execution_count": 19,
   "metadata": {},
   "outputs": [],
   "source": [
    "#calculate top5 ICD code diseases\n",
    "Top5_diseases = Dm[\"CODE_CIM10\"].value_counts().head(5)\n",
    "Top15_diseases = Dm[\"CODE_CIM10\"].value_counts().head(15)"
   ]
  },
  {
   "cell_type": "code",
   "execution_count": 20,
   "metadata": {},
   "outputs": [
    {
     "name": "stdout",
     "output_type": "stream",
     "text": [
      "I10      16463\n",
      "E11.9    11600\n",
      "E14.9     2733\n",
      "N39.0     2035\n",
      "J45.9     1942\n",
      "Name: CODE_CIM10, dtype: int64\n"
     ]
    }
   ],
   "source": [
    "print(Top5_diseases)"
   ]
  },
  {
   "cell_type": "code",
   "execution_count": 21,
   "metadata": {},
   "outputs": [
    {
     "name": "stdout",
     "output_type": "stream",
     "text": [
      "I10      16463\n",
      "E11.9    11600\n",
      "E14.9     2733\n",
      "N39.0     2035\n",
      "J45.9     1942\n",
      "K30       1829\n",
      "E02.9     1585\n",
      "J02.9     1545\n",
      "J40       1534\n",
      "J00       1495\n",
      "E78.2     1404\n",
      "D53.9     1358\n",
      "E78.5     1341\n",
      "N40       1179\n",
      "K59.0     1169\n",
      "Name: CODE_CIM10, dtype: int64\n"
     ]
    }
   ],
   "source": [
    "print(Top15_diseases)"
   ]
  },
  {
   "cell_type": "code",
   "execution_count": 22,
   "metadata": {},
   "outputs": [],
   "source": [
    "Df_icd = Dm['CODE_CIM10'].value_counts().rename_axis('ICD10').reset_index(name='Occurences')"
   ]
  },
  {
   "cell_type": "code",
   "execution_count": 23,
   "metadata": {},
   "outputs": [
    {
     "name": "stdout",
     "output_type": "stream",
     "text": [
      "<class 'pandas.core.frame.DataFrame'>\n",
      "RangeIndex: 1008 entries, 0 to 1007\n",
      "Data columns (total 2 columns):\n",
      " #   Column      Non-Null Count  Dtype \n",
      "---  ------      --------------  ----- \n",
      " 0   ICD10       1008 non-null   object\n",
      " 1   Occurences  1008 non-null   int64 \n",
      "dtypes: int64(1), object(1)\n",
      "memory usage: 15.9+ KB\n"
     ]
    }
   ],
   "source": [
    "Df_icd.info()"
   ]
  },
  {
   "cell_type": "code",
   "execution_count": 24,
   "metadata": {},
   "outputs": [
    {
     "data": {
      "text/plain": [
       "1008"
      ]
     },
     "execution_count": 24,
     "metadata": {},
     "output_type": "execute_result"
    }
   ],
   "source": [
    "len(Df_icd)"
   ]
  },
  {
   "cell_type": "code",
   "execution_count": 25,
   "metadata": {},
   "outputs": [
    {
     "data": {
      "text/plain": [
       "1008"
      ]
     },
     "execution_count": 25,
     "metadata": {},
     "output_type": "execute_result"
    }
   ],
   "source": [
    "Dm['CODE_CIM10'].nunique()"
   ]
  },
  {
   "cell_type": "code",
   "execution_count": 26,
   "metadata": {},
   "outputs": [
    {
     "data": {
      "text/html": [
       "<div>\n",
       "<style scoped>\n",
       "    .dataframe tbody tr th:only-of-type {\n",
       "        vertical-align: middle;\n",
       "    }\n",
       "\n",
       "    .dataframe tbody tr th {\n",
       "        vertical-align: top;\n",
       "    }\n",
       "\n",
       "    .dataframe thead th {\n",
       "        text-align: right;\n",
       "    }\n",
       "</style>\n",
       "<table border=\"1\" class=\"dataframe\">\n",
       "  <thead>\n",
       "    <tr style=\"text-align: right;\">\n",
       "      <th></th>\n",
       "      <th>ICD10</th>\n",
       "      <th>Occurences</th>\n",
       "    </tr>\n",
       "  </thead>\n",
       "  <tbody>\n",
       "    <tr>\n",
       "      <th>0</th>\n",
       "      <td>I10</td>\n",
       "      <td>16463</td>\n",
       "    </tr>\n",
       "    <tr>\n",
       "      <th>1</th>\n",
       "      <td>E11.9</td>\n",
       "      <td>11600</td>\n",
       "    </tr>\n",
       "    <tr>\n",
       "      <th>2</th>\n",
       "      <td>E14.9</td>\n",
       "      <td>2733</td>\n",
       "    </tr>\n",
       "    <tr>\n",
       "      <th>3</th>\n",
       "      <td>N39.0</td>\n",
       "      <td>2035</td>\n",
       "    </tr>\n",
       "    <tr>\n",
       "      <th>4</th>\n",
       "      <td>J45.9</td>\n",
       "      <td>1942</td>\n",
       "    </tr>\n",
       "  </tbody>\n",
       "</table>\n",
       "</div>"
      ],
      "text/plain": [
       "   ICD10  Occurences\n",
       "0    I10       16463\n",
       "1  E11.9       11600\n",
       "2  E14.9        2733\n",
       "3  N39.0        2035\n",
       "4  J45.9        1942"
      ]
     },
     "execution_count": 26,
     "metadata": {},
     "output_type": "execute_result"
    }
   ],
   "source": [
    "Df_icd.head(5)"
   ]
  },
  {
   "cell_type": "code",
   "execution_count": 27,
   "metadata": {},
   "outputs": [
    {
     "data": {
      "text/plain": [
       "34773"
      ]
     },
     "execution_count": 27,
     "metadata": {},
     "output_type": "execute_result"
    }
   ],
   "source": [
    "top5_total= Df_icd.Occurences[0] + Df_icd.Occurences[1] + Df_icd.Occurences[2] + Df_icd.Occurences[3] + Df_icd.Occurences[4]\n",
    "top5_total"
   ]
  },
  {
   "cell_type": "code",
   "execution_count": 28,
   "metadata": {},
   "outputs": [
    {
     "data": {
      "text/plain": [
       "0.3338389608394697"
      ]
     },
     "execution_count": 28,
     "metadata": {},
     "output_type": "execute_result"
    }
   ],
   "source": [
    "top5_total/len(Dm)"
   ]
  },
  {
   "cell_type": "code",
   "execution_count": 29,
   "metadata": {},
   "outputs": [],
   "source": [
    "Df1 = Df_icd.head(5)"
   ]
  },
  {
   "cell_type": "code",
   "execution_count": 30,
   "metadata": {},
   "outputs": [],
   "source": [
    "#col_one_list = df['one'].tolist()\n",
    "List1 = Df1['ICD10'].tolist()"
   ]
  },
  {
   "cell_type": "code",
   "execution_count": 31,
   "metadata": {},
   "outputs": [
    {
     "data": {
      "text/plain": [
       "['I10', 'E11.9', 'E14.9', 'N39.0', 'J45.9']"
      ]
     },
     "execution_count": 31,
     "metadata": {},
     "output_type": "execute_result"
    }
   ],
   "source": [
    "List1"
   ]
  },
  {
   "cell_type": "code",
   "execution_count": 32,
   "metadata": {},
   "outputs": [],
   "source": [
    "Df2 = Df_icd.head(15)"
   ]
  },
  {
   "cell_type": "code",
   "execution_count": 33,
   "metadata": {},
   "outputs": [],
   "source": [
    "#col_one_list = df['one'].tolist()\n",
    "List2 = Df2['ICD10'].tolist()"
   ]
  },
  {
   "cell_type": "code",
   "execution_count": 34,
   "metadata": {},
   "outputs": [
    {
     "data": {
      "text/plain": [
       "['I10',\n",
       " 'E11.9',\n",
       " 'E14.9',\n",
       " 'N39.0',\n",
       " 'J45.9',\n",
       " 'K30',\n",
       " 'E02.9',\n",
       " 'J02.9',\n",
       " 'J40',\n",
       " 'J00',\n",
       " 'E78.2',\n",
       " 'D53.9',\n",
       " 'E78.5',\n",
       " 'N40',\n",
       " 'K59.0']"
      ]
     },
     "execution_count": 34,
     "metadata": {},
     "output_type": "execute_result"
    }
   ],
   "source": [
    "List2"
   ]
  },
  {
   "cell_type": "code",
   "execution_count": 35,
   "metadata": {},
   "outputs": [],
   "source": [
    "Dm['has_top5disease'] = Dm['CODE_CIM10'].apply(lambda x: 1 if x in List1 else 0)"
   ]
  },
  {
   "cell_type": "code",
   "execution_count": 36,
   "metadata": {},
   "outputs": [
    {
     "data": {
      "text/plain": [
       "0    69388\n",
       "1    34773\n",
       "Name: has_top5disease, dtype: int64"
      ]
     },
     "execution_count": 36,
     "metadata": {},
     "output_type": "execute_result"
    }
   ],
   "source": [
    "Dm['has_top5disease'].value_counts()"
   ]
  },
  {
   "cell_type": "code",
   "execution_count": 37,
   "metadata": {},
   "outputs": [
    {
     "data": {
      "text/plain": [
       "ID_CONSULTATION               0\n",
       "ID_DIAGNOSTIC_PATIENT         0\n",
       "DATE_CREATION                 0\n",
       "PAT_ID                        0\n",
       "PAT_SEXE                      0\n",
       "PAT_PROFESSION                0\n",
       "PAT_DATEHNAISSANCE            0\n",
       "POIDS_EDITION             93963\n",
       "ORD_TAILLE_EDITION       103320\n",
       "EXAMEN                        0\n",
       "CONCLUSION                    0\n",
       "LIBELLE_x                     0\n",
       "TITRE_x                       0\n",
       "TITRE_y                       0\n",
       "CODE_CIM10                    0\n",
       "AGE                           0\n",
       "BMI                       77956\n",
       "YEAR                          0\n",
       "visit_summary                 0\n",
       "TaS                       66148\n",
       "TaD                       66148\n",
       "Glycemie                  84921\n",
       "RespRate                  91755\n",
       "Albumin                   97257\n",
       "Creatine                  99366\n",
       "has_top5disease               0\n",
       "dtype: int64"
      ]
     },
     "execution_count": 37,
     "metadata": {},
     "output_type": "execute_result"
    }
   ],
   "source": [
    "Dm.isnull().sum()"
   ]
  },
  {
   "cell_type": "code",
   "execution_count": 38,
   "metadata": {},
   "outputs": [],
   "source": [
    "Dm = Dm.fillna('')"
   ]
  },
  {
   "cell_type": "code",
   "execution_count": 39,
   "metadata": {},
   "outputs": [
    {
     "data": {
      "text/plain": [
       "ID_CONSULTATION          0\n",
       "ID_DIAGNOSTIC_PATIENT    0\n",
       "DATE_CREATION            0\n",
       "PAT_ID                   0\n",
       "PAT_SEXE                 0\n",
       "PAT_PROFESSION           0\n",
       "PAT_DATEHNAISSANCE       0\n",
       "POIDS_EDITION            0\n",
       "ORD_TAILLE_EDITION       0\n",
       "EXAMEN                   0\n",
       "CONCLUSION               0\n",
       "LIBELLE_x                0\n",
       "TITRE_x                  0\n",
       "TITRE_y                  0\n",
       "CODE_CIM10               0\n",
       "AGE                      0\n",
       "BMI                      0\n",
       "YEAR                     0\n",
       "visit_summary            0\n",
       "TaS                      0\n",
       "TaD                      0\n",
       "Glycemie                 0\n",
       "RespRate                 0\n",
       "Albumin                  0\n",
       "Creatine                 0\n",
       "has_top5disease          0\n",
       "dtype: int64"
      ]
     },
     "execution_count": 39,
     "metadata": {},
     "output_type": "execute_result"
    }
   ],
   "source": [
    "Dm.isnull().sum()"
   ]
  },
  {
   "cell_type": "code",
   "execution_count": 40,
   "metadata": {},
   "outputs": [],
   "source": [
    "Dm['EXAMEN'] = Dm['EXAMEN'].astype(str)\n",
    "Dm['CONCLUSION'] = Dm['CONCLUSION'].astype(str)\n",
    "Dm['TITRE_x'] = Dm['TITRE_x'].astype(str)\n",
    "Dm['TITRE_y'] = Dm['TITRE_y'].astype(str)\n",
    "Dm['visit_summary'] = Dm['visit_summary'].astype(str)"
   ]
  },
  {
   "cell_type": "code",
   "execution_count": 41,
   "metadata": {},
   "outputs": [],
   "source": [
    "Dm['mednotes'] = Dm['EXAMEN'] + Dm['TITRE_x'] + Dm['TITRE_y'] + Dm['CONCLUSION'] + Dm['visit_summary']"
   ]
  },
  {
   "cell_type": "code",
   "execution_count": 42,
   "metadata": {},
   "outputs": [
    {
     "data": {
      "text/plain": [
       "Index(['ID_CONSULTATION', 'ID_DIAGNOSTIC_PATIENT', 'DATE_CREATION', 'PAT_ID',\n",
       "       'PAT_SEXE', 'PAT_PROFESSION', 'PAT_DATEHNAISSANCE', 'POIDS_EDITION',\n",
       "       'ORD_TAILLE_EDITION', 'EXAMEN', 'CONCLUSION', 'LIBELLE_x', 'TITRE_x',\n",
       "       'TITRE_y', 'CODE_CIM10', 'AGE', 'BMI', 'YEAR', 'visit_summary', 'TaS',\n",
       "       'TaD', 'Glycemie', 'RespRate', 'Albumin', 'Creatine', 'has_top5disease',\n",
       "       'mednotes'],\n",
       "      dtype='object')"
      ]
     },
     "execution_count": 42,
     "metadata": {},
     "output_type": "execute_result"
    }
   ],
   "source": [
    "Dm.columns"
   ]
  },
  {
   "cell_type": "markdown",
   "metadata": {},
   "source": [
    "## Data analysis and exploration"
   ]
  },
  {
   "cell_type": "markdown",
   "metadata": {},
   "source": [
    "**Working on Freatures cleaning, engineering, encoding"
   ]
  },
  {
   "cell_type": "code",
   "execution_count": 43,
   "metadata": {},
   "outputs": [],
   "source": [
    "Text_dm = Dm[['mednotes','has_top5disease']]"
   ]
  },
  {
   "cell_type": "code",
   "execution_count": 44,
   "metadata": {},
   "outputs": [
    {
     "data": {
      "text/plain": [
       "Index(['mednotes', 'has_top5disease'], dtype='object')"
      ]
     },
     "execution_count": 44,
     "metadata": {},
     "output_type": "execute_result"
    }
   ],
   "source": [
    "Text_dm.columns"
   ]
  },
  {
   "cell_type": "code",
   "execution_count": 45,
   "metadata": {},
   "outputs": [
    {
     "data": {
      "text/html": [
       "<div>\n",
       "<style scoped>\n",
       "    .dataframe tbody tr th:only-of-type {\n",
       "        vertical-align: middle;\n",
       "    }\n",
       "\n",
       "    .dataframe tbody tr th {\n",
       "        vertical-align: top;\n",
       "    }\n",
       "\n",
       "    .dataframe thead th {\n",
       "        text-align: right;\n",
       "    }\n",
       "</style>\n",
       "<table border=\"1\" class=\"dataframe\">\n",
       "  <thead>\n",
       "    <tr style=\"text-align: right;\">\n",
       "      <th></th>\n",
       "      <th>mednotes</th>\n",
       "      <th>has_top5disease</th>\n",
       "      <th>length</th>\n",
       "    </tr>\n",
       "  </thead>\n",
       "  <tbody>\n",
       "    <tr>\n",
       "      <th>0</th>\n",
       "      <td>&lt;NA&gt;&lt;NA&gt;douleur abdominale&lt;NA&gt;&lt;NA&gt;</td>\n",
       "      <td>0</td>\n",
       "      <td>34</td>\n",
       "    </tr>\n",
       "    <tr>\n",
       "      <th>1</th>\n",
       "      <td>&lt;NA&gt;&lt;NA&gt;dyspnÃÂÃÂÃÂÃÂ©e&lt;NA&gt;Le patient s...</td>\n",
       "      <td>1</td>\n",
       "      <td>93</td>\n",
       "    </tr>\n",
       "    <tr>\n",
       "      <th>2</th>\n",
       "      <td>diabÃÂÃÂÃÂÃÂÃÂÃÂÃÂÃÂ¨te suivi&lt;N...</td>\n",
       "      <td>0</td>\n",
       "      <td>190</td>\n",
       "    </tr>\n",
       "    <tr>\n",
       "      <th>3</th>\n",
       "      <td>renouvellement traitement&lt;NA&gt;diabÃÂÃÂÃÂÃ...</td>\n",
       "      <td>1</td>\n",
       "      <td>167</td>\n",
       "    </tr>\n",
       "    <tr>\n",
       "      <th>4</th>\n",
       "      <td>&lt;NA&gt;&lt;NA&gt;ictÃÂÃÂÃÂÃÂ¨reTUMEFACTION DOULO...</td>\n",
       "      <td>0</td>\n",
       "      <td>75</td>\n",
       "    </tr>\n",
       "  </tbody>\n",
       "</table>\n",
       "</div>"
      ],
      "text/plain": [
       "                                            mednotes  has_top5disease  length\n",
       "0                 <NA><NA>douleur abdominale<NA><NA>                0      34\n",
       "1  <NA><NA>dyspnÃÂÃÂÃÂÃÂ©e<NA>Le patient s...                1      93\n",
       "2  diabÃÂÃÂÃÂÃÂÃÂÃÂÃÂÃÂ¨te suivi<N...                0     190\n",
       "3  renouvellement traitement<NA>diabÃÂÃÂÃÂÃ...                1     167\n",
       "4  <NA><NA>ictÃÂÃÂÃÂÃÂ¨reTUMEFACTION DOULO...                0      75"
      ]
     },
     "execution_count": 45,
     "metadata": {},
     "output_type": "execute_result"
    }
   ],
   "source": [
    "#lenght characters\n",
    "Text_dm['length'] = Text_dm['mednotes'].apply(len)\n",
    "Text_dm.head(5)"
   ]
  },
  {
   "cell_type": "code",
   "execution_count": 46,
   "metadata": {},
   "outputs": [
    {
     "data": {
      "text/plain": [
       "mednotes           0\n",
       "has_top5disease    0\n",
       "length             0\n",
       "dtype: int64"
      ]
     },
     "execution_count": 46,
     "metadata": {},
     "output_type": "execute_result"
    }
   ],
   "source": [
    "Text_dm.isnull().sum()"
   ]
  },
  {
   "cell_type": "code",
   "execution_count": 47,
   "metadata": {},
   "outputs": [
    {
     "data": {
      "text/plain": [
       "(104161, 3)"
      ]
     },
     "execution_count": 47,
     "metadata": {},
     "output_type": "execute_result"
    }
   ],
   "source": [
    "Text_dm.shape"
   ]
  },
  {
   "cell_type": "code",
   "execution_count": 48,
   "metadata": {},
   "outputs": [
    {
     "data": {
      "text/html": [
       "<div>\n",
       "<style scoped>\n",
       "    .dataframe tbody tr th:only-of-type {\n",
       "        vertical-align: middle;\n",
       "    }\n",
       "\n",
       "    .dataframe tbody tr th {\n",
       "        vertical-align: top;\n",
       "    }\n",
       "\n",
       "    .dataframe thead th {\n",
       "        text-align: right;\n",
       "    }\n",
       "</style>\n",
       "<table border=\"1\" class=\"dataframe\">\n",
       "  <thead>\n",
       "    <tr style=\"text-align: right;\">\n",
       "      <th></th>\n",
       "      <th>mednotes</th>\n",
       "      <th>has_top5disease</th>\n",
       "      <th>length</th>\n",
       "    </tr>\n",
       "  </thead>\n",
       "  <tbody>\n",
       "    <tr>\n",
       "      <th>0</th>\n",
       "      <td>&lt;NA&gt;&lt;NA&gt;douleur abdominale&lt;NA&gt;&lt;NA&gt;</td>\n",
       "      <td>0</td>\n",
       "      <td>34</td>\n",
       "    </tr>\n",
       "    <tr>\n",
       "      <th>1</th>\n",
       "      <td>&lt;NA&gt;&lt;NA&gt;dyspnÃÂÃÂÃÂÃÂ©e&lt;NA&gt;Le patient s...</td>\n",
       "      <td>1</td>\n",
       "      <td>93</td>\n",
       "    </tr>\n",
       "    <tr>\n",
       "      <th>2</th>\n",
       "      <td>diabÃÂÃÂÃÂÃÂÃÂÃÂÃÂÃÂ¨te suivi&lt;N...</td>\n",
       "      <td>0</td>\n",
       "      <td>190</td>\n",
       "    </tr>\n",
       "    <tr>\n",
       "      <th>3</th>\n",
       "      <td>renouvellement traitement&lt;NA&gt;diabÃÂÃÂÃÂÃ...</td>\n",
       "      <td>1</td>\n",
       "      <td>167</td>\n",
       "    </tr>\n",
       "    <tr>\n",
       "      <th>4</th>\n",
       "      <td>&lt;NA&gt;&lt;NA&gt;ictÃÂÃÂÃÂÃÂ¨reTUMEFACTION DOULO...</td>\n",
       "      <td>0</td>\n",
       "      <td>75</td>\n",
       "    </tr>\n",
       "  </tbody>\n",
       "</table>\n",
       "</div>"
      ],
      "text/plain": [
       "                                            mednotes  has_top5disease  length\n",
       "0                 <NA><NA>douleur abdominale<NA><NA>                0      34\n",
       "1  <NA><NA>dyspnÃÂÃÂÃÂÃÂ©e<NA>Le patient s...                1      93\n",
       "2  diabÃÂÃÂÃÂÃÂÃÂÃÂÃÂÃÂ¨te suivi<N...                0     190\n",
       "3  renouvellement traitement<NA>diabÃÂÃÂÃÂÃ...                1     167\n",
       "4  <NA><NA>ictÃÂÃÂÃÂÃÂ¨reTUMEFACTION DOULO...                0      75"
      ]
     },
     "execution_count": 48,
     "metadata": {},
     "output_type": "execute_result"
    }
   ],
   "source": [
    "Text_dm.head(5)"
   ]
  },
  {
   "cell_type": "code",
   "execution_count": 49,
   "metadata": {},
   "outputs": [
    {
     "data": {
      "text/plain": [
       "0    69388\n",
       "1    34773\n",
       "Name: has_top5disease, dtype: int64"
      ]
     },
     "execution_count": 49,
     "metadata": {},
     "output_type": "execute_result"
    }
   ],
   "source": [
    "Text_dm['has_top5disease'].value_counts()"
   ]
  },
  {
   "cell_type": "code",
   "execution_count": 50,
   "metadata": {},
   "outputs": [
    {
     "data": {
      "image/png": "[encoded data removed]",
      "text/plain": [
       "<Figure size 432x288 with 1 Axes>"
      ]
     },
     "metadata": {
      "needs_background": "light"
     },
     "output_type": "display_data"
    }
   ],
   "source": [
    "Text_dm['has_top5disease'].value_counts().plot(kind='bar');"
   ]
  },
  {
   "cell_type": "code",
   "execution_count": 51,
   "metadata": {},
   "outputs": [
    {
     "data": {
      "text/plain": [
       "count    104161.000000\n",
       "mean        134.079089\n",
       "std          71.922189\n",
       "min          18.000000\n",
       "25%          81.000000\n",
       "50%         126.000000\n",
       "75%         175.000000\n",
       "max         569.000000\n",
       "Name: length, dtype: float64"
      ]
     },
     "execution_count": 51,
     "metadata": {},
     "output_type": "execute_result"
    }
   ],
   "source": [
    "Text_dm['length'].describe()"
   ]
  },
  {
   "cell_type": "code",
   "execution_count": 52,
   "metadata": {},
   "outputs": [
    {
     "data": {
      "text/plain": [
       "mednotes           object\n",
       "has_top5disease     int64\n",
       "length              int64\n",
       "dtype: object"
      ]
     },
     "execution_count": 52,
     "metadata": {},
     "output_type": "execute_result"
    }
   ],
   "source": [
    "Text_dm.dtypes"
   ]
  },
  {
   "cell_type": "markdown",
   "metadata": {},
   "source": [
    "## Data processing"
   ]
  },
  {
   "cell_type": "markdown",
   "metadata": {},
   "source": [
    "**Text Pre-processing In this step we have to remove punctuation, stop words, bad characters and so on. The second step is aimed to convertion all of the words to lower case \n",
    "and then stemmed them using the Porter Stemmer in the NLTK package."
   ]
  },
  {
   "cell_type": "code",
   "execution_count": 53,
   "metadata": {},
   "outputs": [],
   "source": [
    "import pandas as pd\n",
    "import numpy as np\n",
    "import matplotlib.pyplot as plt\n",
    "%matplotlib inline\n",
    "import seaborn as sns\n",
    "\n",
    "import string\n",
    "import re\n",
    "from nltk.corpus import stopwords\n",
    "from nltk.stem import PorterStemmer\n",
    "from nltk.tokenize import sent_tokenize, word_tokenize\n",
    "\n",
    "from sklearn.feature_extraction.text import CountVectorizer\n",
    "from sklearn.feature_extraction.text import TfidfTransformer\n",
    "from sklearn.model_selection import train_test_split\n",
    "from sklearn.pipeline import Pipeline\n",
    "\n",
    "from sklearn.linear_model import LogisticRegression\n",
    "from sklearn.naive_bayes import MultinomialNB\n",
    "from sklearn.ensemble import RandomForestClassifier\n",
    "from sklearn.svm import LinearSVC\n",
    "from sklearn.ensemble import GradientBoostingClassifier\n",
    "from sklearn.model_selection import GridSearchCV\n",
    "\n",
    "from sklearn.metrics import accuracy_score, classification_report, f1_score"
   ]
  },
  {
   "cell_type": "code",
   "execution_count": 54,
   "metadata": {},
   "outputs": [
    {
     "name": "stdout",
     "output_type": "stream",
     "text": [
      "['au', 'en', 'lui', 'notre', 'sa', 'tu', 'à', 'étant', 'serai', 'seraient', 'furent', 'fussiez', 'ai', 'auront', 'avaient', 'aient']\n"
     ]
    }
   ],
   "source": [
    "stop = stopwords.words('french')\n",
    "print(stop[::10])\n",
    "\n",
    "porter = PorterStemmer()"
   ]
  },
  {
   "cell_type": "code",
   "execution_count": 55,
   "metadata": {},
   "outputs": [],
   "source": [
    "def remove_punctuation(mednotes):\n",
    "    \"\"\"The function to remove punctuation\"\"\"\n",
    "    table = str.maketrans('', '', string.punctuation)\n",
    "    return mednotes.translate(table)\n",
    "\n",
    "def remove_stopwords(text):\n",
    "    \"\"\"The function to removing stopwords\"\"\"\n",
    "    text = [word.lower() for word in text.split() if word.lower() not in stop]\n",
    "    return \" \".join(text)\n",
    "\n",
    "def stemmer(stem_text):\n",
    "    \"\"\"The function to apply stemming\"\"\"\n",
    "    stem_text = [porter.stem(word) for word in stem_text.split()]\n",
    "    return \" \".join(stem_text)"
   ]
  },
  {
   "cell_type": "code",
   "execution_count": 56,
   "metadata": {},
   "outputs": [],
   "source": [
    "# Apply the function to each example\n",
    "Text_dm['mednotes'] = Text_dm['mednotes'].apply(remove_punctuation)\n",
    "Text_dm['mednotes'] = Text_dm['mednotes'].apply(remove_stopwords)\n",
    "Text_dm['mednotes'] = Text_dm['mednotes'].apply(stemmer)\n"
   ]
  },
  {
   "cell_type": "code",
   "execution_count": 57,
   "metadata": {},
   "outputs": [
    {
     "data": {
      "text/plain": [
       "mednotes           64408\n",
       "has_top5disease        2\n",
       "length               469\n",
       "dtype: int64"
      ]
     },
     "execution_count": 57,
     "metadata": {},
     "output_type": "execute_result"
    }
   ],
   "source": [
    "Text_dm.nunique()"
   ]
  },
  {
   "cell_type": "code",
   "execution_count": 58,
   "metadata": {},
   "outputs": [
    {
     "data": {
      "text/plain": [
       "'diabã\\x83â\\x83ã\\x82â\\x83ã\\x83â\\x82ã\\x82â\\x83ã\\x83â\\x83ã\\x82â\\x82ã\\x83â\\x82ã\\x82â¨t suivinadiabã\\x83â\\x83ã\\x82â\\x83ã\\x83â\\x82ã\\x82â¨t insulinodã\\x83â\\x83ã\\x82â\\x83ã\\x83â\\x82ã\\x82â©pendantdiabet astheni amaigrissementurin frã©quent pendant nuit selon patient'"
      ]
     },
     "execution_count": 58,
     "metadata": {},
     "output_type": "execute_result"
    }
   ],
   "source": [
    "Text_dm['mednotes'][2]"
   ]
  },
  {
   "cell_type": "code",
   "execution_count": 59,
   "metadata": {},
   "outputs": [],
   "source": [
    "spec_chars = [\"ã\\x83â\\x83ã\\x82â\\x83ã\\x83â\\x82ã\\x82â\\x83ã\\x83â\\x83ã\\x82â\\x82ã\\x83â\\x82ã\\x82â\"]\n",
    "for char in spec_chars:\n",
    "    Text_dm['mednotes'] = Text_dm['mednotes'].str.replace(char, ' ')"
   ]
  },
  {
   "cell_type": "code",
   "execution_count": 60,
   "metadata": {},
   "outputs": [],
   "source": [
    "spec_chars = [\"ã\\x83â\\x83ã\\x82â\\x83ã\\x83â\\x82ã\\x82â\"]\n",
    "for char in spec_chars:\n",
    "    Text_dm['mednotes'] = Text_dm['mednotes'].str.replace(char, ' ')"
   ]
  },
  {
   "cell_type": "code",
   "execution_count": 61,
   "metadata": {},
   "outputs": [
    {
     "data": {
      "text/plain": [
       "'diab ¨t suivinadiab ¨t insulinod ©pendantdiabet astheni amaigrissementurin frã©quent pendant nuit selon patient'"
      ]
     },
     "execution_count": 61,
     "metadata": {},
     "output_type": "execute_result"
    }
   ],
   "source": [
    "Text_dm['mednotes'][2]"
   ]
  },
  {
   "cell_type": "code",
   "execution_count": 62,
   "metadata": {},
   "outputs": [
    {
     "data": {
      "text/plain": [
       "[('diab', 'NN'),\n",
       " ('¨t', 'NNP'),\n",
       " ('suivinadiab', 'NN'),\n",
       " ('¨t', 'NNP'),\n",
       " ('insulinod', 'NN'),\n",
       " ('©pendantdiabet', 'NNP'),\n",
       " ('astheni', 'NN'),\n",
       " ('amaigrissementurin', 'NN'),\n",
       " ('frã©quent', 'NN'),\n",
       " ('pendant', 'NN'),\n",
       " ('nuit', 'NN'),\n",
       " ('selon', 'NN'),\n",
       " ('patient', 'NN')]"
      ]
     },
     "execution_count": 62,
     "metadata": {},
     "output_type": "execute_result"
    }
   ],
   "source": [
    "#Tokenisation process\n",
    "import nltk \n",
    "tokens = Text_dm['mednotes'][2]\n",
    "nltk.pos_tag(word_tokenize(tokens))"
   ]
  },
  {
   "cell_type": "markdown",
   "metadata": {},
   "source": [
    "**Bag of words**\n",
    "To run machine learning algorithms we need to convert the text files into numerical feature vectors. We will use bag of words model for our analysis. In general we segment each text file into words and count of times each word occurs in each document and finally assign each word an integer id. Each unique word in our dictionary will correspond to a feature (descriptive feature). More precisely we will convert our text documents to a matrix of token counts (CountVectorizer), then transform a count matrix to a normalized tf-idf representation (tf-idf transformer)."
   ]
  },
  {
   "cell_type": "markdown",
   "metadata": {},
   "source": [
    "**CountVectorizer"
   ]
  },
  {
   "cell_type": "code",
   "execution_count": 63,
   "metadata": {},
   "outputs": [],
   "source": [
    "vectorizer = CountVectorizer()\n",
    "vectorizer.fit(Text_dm['mednotes'])\n",
    "vector = vectorizer.transform(Text_dm['mednotes'])"
   ]
  },
  {
   "cell_type": "code",
   "execution_count": 64,
   "metadata": {},
   "outputs": [
    {
     "name": "stdout",
     "output_type": "stream",
     "text": [
      "(104161, 39158)\n"
     ]
    }
   ],
   "source": [
    "#Display the matrix representative of text data\n",
    "print(vector.shape)\n",
    "#print(vector.toarray())\n"
   ]
  },
  {
   "cell_type": "code",
   "execution_count": 65,
   "metadata": {},
   "outputs": [],
   "source": [
    "# Extract the tfid representation matrix of the text data\n",
    "#tfidf_converter = TfidfTransformer()\n",
    "#X_tfidf = tfidf_converter.fit_transform(vector).toarray()\n",
    "#X_tfidf"
   ]
  },
  {
   "cell_type": "code",
   "execution_count": 66,
   "metadata": {},
   "outputs": [
    {
     "data": {
      "text/plain": [
       "count    104161.000000\n",
       "mean        134.079089\n",
       "std          71.922189\n",
       "min          18.000000\n",
       "25%          81.000000\n",
       "50%         126.000000\n",
       "75%         175.000000\n",
       "max         569.000000\n",
       "Name: length, dtype: float64"
      ]
     },
     "execution_count": 66,
     "metadata": {},
     "output_type": "execute_result"
    }
   ],
   "source": [
    "Text_dm['length'].describe()"
   ]
  },
  {
   "cell_type": "code",
   "execution_count": 67,
   "metadata": {},
   "outputs": [],
   "source": [
    "#Text_dm = Dm[['EXAMEN', 'CONCLUSION', 'TITRE_x','TITRE_y','visit_summary']]\n",
    "Num_dm = Dm[['AGE', 'BMI', 'TaS', 'TaD', 'Glycemie', 'RespRate', 'Albumin', 'Creatine']]"
   ]
  },
  {
   "cell_type": "code",
   "execution_count": 68,
   "metadata": {},
   "outputs": [],
   "source": [
    "#Separating text(input) and target classes\n",
    "\n",
    "list_sentences_rawdata = Text_dm[\"mednotes\"].values\n",
    "list_classes = [\"has_top5disease\"]\n",
    "target = Text_dm[list_classes].values\n",
    "\n",
    "To_Process=Text_dm[['mednotes', 'has_top5disease']]"
   ]
  },
  {
   "cell_type": "code",
   "execution_count": 69,
   "metadata": {},
   "outputs": [
    {
     "name": "stdout",
     "output_type": "stream",
     "text": [
      "Found 35825 unique tokens.\n",
      "(83328, 300)\n",
      "(20833, 300)\n"
     ]
    }
   ],
   "source": [
    "#Train and test split with 80:20 ratio\n",
    "train, test = train_test_split(To_Process, test_size=0.2) \n",
    "\n",
    "# Define the sequence lengths, max number of words and embedding dimensions\n",
    "# Sequence length of each sentence. If more, truncate. If less, pad with zeros\n",
    "\n",
    "MAX_SEQUENCE_LENGTH = 300 \n",
    "\n",
    "# Top 20000 frequently occurring words\n",
    "MAX_NB_WORDS = 20000\n",
    " \n",
    "from keras.preprocessing.text import Tokenizer\n",
    "# Get the frequently occurring words\n",
    "tokenizer = Tokenizer(num_words=MAX_NB_WORDS) \n",
    "tokenizer.fit_on_texts(train.mednotes) \n",
    "train_sequences = tokenizer.texts_to_sequences(train.mednotes)\n",
    "test_sequences = tokenizer.texts_to_sequences(test.mednotes)\n",
    "\n",
    "# dictionary containing words and their index\n",
    "word_index = tokenizer.word_index \n",
    "vocab_size = len(word_index) + 1\n",
    "# print(tokenizer.word_index) \n",
    "# total words in the corpus\n",
    "print('Found %s unique tokens.' % len(word_index)) \n",
    "\n",
    "from keras.preprocessing.sequence import pad_sequences\n",
    "# get only the top frequent words on train\n",
    "train_data = pad_sequences(train_sequences, maxlen=MAX_SEQUENCE_LENGTH) \n",
    "\n",
    "# get only the top frequent words on test\n",
    "test_data = pad_sequences(test_sequences, maxlen=MAX_SEQUENCE_LENGTH) \n",
    "\n",
    "print(train_data.shape)\n",
    "print(test_data.shape)"
   ]
  },
  {
   "cell_type": "code",
   "execution_count": 70,
   "metadata": {},
   "outputs": [
    {
     "name": "stdout",
     "output_type": "stream",
     "text": [
      "[0 1]\n",
      "(array([0, 1]), array([55460, 27868]))\n",
      "(array([0, 1]), array([13928,  6905]))\n"
     ]
    }
   ],
   "source": [
    "train_labels = train['has_top5disease']\n",
    "test_labels = test['has_top5disease']\n",
    "\n",
    "#import library\n",
    "\n",
    "from sklearn.preprocessing import LabelEncoder\n",
    "# converts the character array to numeric array. Assigns levels to unique labels.\n",
    "\n",
    "le = LabelEncoder() \n",
    "le.fit(train_labels)\n",
    "train_labels = le.transform(train_labels)\n",
    "test_labels = le.transform(test_labels)\n",
    "\n",
    "print(le.classes_)\n",
    "print(np.unique(train_labels, return_counts=True))\n",
    "print(np.unique(test_labels, return_counts=True))"
   ]
  },
  {
   "cell_type": "code",
   "execution_count": 71,
   "metadata": {},
   "outputs": [],
   "source": [
    "import numpy as np\n",
    "import tensorflow as tf\n",
    "from tensorflow import keras"
   ]
  },
  {
   "cell_type": "code",
   "execution_count": 72,
   "metadata": {},
   "outputs": [
    {
     "name": "stdout",
     "output_type": "stream",
     "text": [
      "Shape of data tensor: (83328, 300)\n",
      "Shape of label tensor: (83328, 2)\n",
      "Shape of label tensor: (20833, 2)\n",
      "300\n"
     ]
    }
   ],
   "source": [
    "from keras.utils.np_utils import to_categorical\n",
    "# changing data types\n",
    "labels_train = to_categorical(np.asarray(train_labels))\n",
    "labels_test = to_categorical(np.asarray(test_labels))\n",
    "print('Shape of data tensor:', train_data.shape)\n",
    "print('Shape of label tensor:', labels_train.shape)\n",
    "print('Shape of label tensor:', labels_test.shape)\n",
    "\n",
    "EMBEDDING_DIM = 100\n",
    "print(MAX_SEQUENCE_LENGTH)"
   ]
  },
  {
   "cell_type": "markdown",
   "metadata": {},
   "source": [
    "**Splitting the data into train and test with ratio 80-20**"
   ]
  },
  {
   "cell_type": "code",
   "execution_count": 73,
   "metadata": {},
   "outputs": [],
   "source": [
    "#Splitting the data into train and test sets:random_state=1, stratify=y)\n",
    "X = Text_dm['mednotes']\n",
    "y = Text_dm['has_top5disease']\n",
    "\n",
    "X_train, X_test, y_train, y_test = train_test_split(X,y,test_size=0.2,random_state=1,stratify=y)"
   ]
  },
  {
   "cell_type": "code",
   "execution_count": 74,
   "metadata": {},
   "outputs": [
    {
     "data": {
      "text/plain": [
       "((83328,), (20833,), (83328,), (20833,))"
      ]
     },
     "execution_count": 74,
     "metadata": {},
     "output_type": "execute_result"
    }
   ],
   "source": [
    "X_train.shape, X_test.shape, y_train.shape, y_test.shape"
   ]
  },
  {
   "cell_type": "code",
   "execution_count": 75,
   "metadata": {},
   "outputs": [],
   "source": [
    "##meta input"
   ]
  },
  {
   "cell_type": "code",
   "execution_count": 76,
   "metadata": {},
   "outputs": [],
   "source": [
    "Num_dm = Num_dm.replace(r'^\\s*$', np.NaN, regex=True)\n",
    "Num_dm = Num_dm.fillna(Num_dm.mean())"
   ]
  },
  {
   "cell_type": "code",
   "execution_count": 77,
   "metadata": {},
   "outputs": [],
   "source": [
    "train_meta = Num_dm[:int(len(Num_dm)*0.8)]\n",
    "test_meta = Num_dm[int(len(Num_dm)*0.8):]"
   ]
  },
  {
   "cell_type": "code",
   "execution_count": 78,
   "metadata": {},
   "outputs": [],
   "source": [
    "train_meta = np.asarray(train_meta.values).astype('float32')\n",
    "#train_meta = train_meta[['AGE']].values\n",
    "test_meta = np.asarray(test_meta.values).astype('float32')\n",
    "#test_meta = test_meta[['AGE']].values\n"
   ]
  },
  {
   "cell_type": "code",
   "execution_count": 79,
   "metadata": {},
   "outputs": [],
   "source": [
    "##We will use here GloVe word embeddings for creating word vectors"
   ]
  },
  {
   "cell_type": "code",
   "execution_count": 177,
   "metadata": {},
   "outputs": [],
   "source": [
    "from numpy import array\n",
    "from numpy import asarray\n",
    "from numpy import zeros\n",
    "\n",
    "embeddings_dictionary = dict()\n",
    "\n",
    "glove_file = open('glove.6B.100d.txt', encoding=\"utf8\")\n",
    "\n",
    "for line in glove_file:\n",
    "    records = line.split()\n",
    "    word = records[0]\n",
    "    vector_dimensions = asarray(records[1:], dtype='float32')\n",
    "    embeddings_dictionary[word] = vector_dimensions\n",
    "\n",
    "glove_file.close()\n",
    "\n",
    "embedding_matrix = zeros((vocab_size, 100))\n",
    "for word, index in tokenizer.word_index.items():\n",
    "    embedding_vector = embeddings_dictionary.get(word)\n",
    "    if embedding_vector is not None:\n",
    "        embedding_matrix[index] = embedding_vector"
   ]
  },
  {
   "cell_type": "code",
   "execution_count": 178,
   "metadata": {},
   "outputs": [
    {
     "data": {
      "text/plain": [
       "35671"
      ]
     },
     "execution_count": 178,
     "metadata": {},
     "output_type": "execute_result"
    }
   ],
   "source": [
    "len(embedding_matrix)"
   ]
  },
  {
   "cell_type": "code",
   "execution_count": null,
   "metadata": {},
   "outputs": [],
   "source": [
    "from keras.layers import concatenate, Dense, Embedding, Bidirectional, LSTM\n",
    "from keras import Model, Input"
   ]
  },
  {
   "cell_type": "code",
   "execution_count": 188,
   "metadata": {},
   "outputs": [],
   "source": [
    "seq_length = 300\n",
    "## this input layer corresponds to text data\n",
    "input_1 = Input(shape=(seq_length,))\n",
    "## this corresponds to numerical data\n",
    "input_2 = Input(shape=(8,))\n",
    "##here we create the first submodel that accepts data from first input layer\n",
    "embedding_layer = Embedding(vocab_size, 100, weights=[embedding_matrix], trainable=False)(input_1)\n",
    "LSTM_Layer_1 = LSTM(128)(embedding_layer)\n",
    "## and here we create a second submodel that accepts input from the second input layer which is composed of two dense layers\n",
    "dense_layer_1 = Dense(10, activation='relu')(input_2)\n",
    "dense_layer_2 = Dense(10, activation='relu')(dense_layer_1)"
   ]
  },
  {
   "cell_type": "code",
   "execution_count": 189,
   "metadata": {},
   "outputs": [],
   "source": [
    "## What we want to do is concatenate the output from the first submodel with the output from the second submodel\n",
    "##The output from the first submodel is the output from the LSTM_Layer_1 and similarly,\n",
    "##the output from the second submodel is the output from the dense_layer_2"
   ]
  },
  {
   "cell_type": "code",
   "execution_count": 190,
   "metadata": {},
   "outputs": [],
   "source": [
    "concat_layer = concatenate([LSTM_Layer_1, dense_layer_2])\n",
    "dense_layer_3 = Dense(10, activation='relu')(concat_layer)\n",
    "output = Dense(2, activation='sigmoid')(dense_layer_3)\n",
    "model = Model(inputs=[input_1, input_2], outputs=output)"
   ]
  },
  {
   "cell_type": "code",
   "execution_count": 191,
   "metadata": {},
   "outputs": [],
   "source": [
    "## The following code compiles the model and prints its summary"
   ]
  },
  {
   "cell_type": "code",
   "execution_count": 192,
   "metadata": {},
   "outputs": [
    {
     "name": "stdout",
     "output_type": "stream",
     "text": [
      "Model: \"functional_13\"\n",
      "__________________________________________________________________________________________________\n",
      "Layer (type)                    Output Shape         Param #     Connected to                     \n",
      "==================================================================================================\n",
      "input_13 (InputLayer)           [(None, 300)]        0                                            \n",
      "__________________________________________________________________________________________________\n",
      "input_14 (InputLayer)           [(None, 8)]          0                                            \n",
      "__________________________________________________________________________________________________\n",
      "embedding_6 (Embedding)         (None, 300, 100)     3567100     input_13[0][0]                   \n",
      "__________________________________________________________________________________________________\n",
      "dense_22 (Dense)                (None, 10)           90          input_14[0][0]                   \n",
      "__________________________________________________________________________________________________\n",
      "lstm_6 (LSTM)                   (None, 128)          117248      embedding_6[0][0]                \n",
      "__________________________________________________________________________________________________\n",
      "dense_23 (Dense)                (None, 10)           110         dense_22[0][0]                   \n",
      "__________________________________________________________________________________________________\n",
      "concatenate_6 (Concatenate)     (None, 138)          0           lstm_6[0][0]                     \n",
      "                                                                 dense_23[0][0]                   \n",
      "__________________________________________________________________________________________________\n",
      "dense_24 (Dense)                (None, 10)           1390        concatenate_6[0][0]              \n",
      "__________________________________________________________________________________________________\n",
      "dense_25 (Dense)                (None, 2)            22          dense_24[0][0]                   \n",
      "==================================================================================================\n",
      "Total params: 3,685,960\n",
      "Trainable params: 118,860\n",
      "Non-trainable params: 3,567,100\n",
      "__________________________________________________________________________________________________\n",
      "None\n"
     ]
    }
   ],
   "source": [
    "model.compile(loss='categorical_crossentropy', optimizer='adam', metrics=['acc'])\n",
    "print(model.summary())"
   ]
  },
  {
   "cell_type": "code",
   "execution_count": 193,
   "metadata": {},
   "outputs": [],
   "source": [
    "## the code below should show and download an image for the newttwork diagram"
   ]
  },
  {
   "cell_type": "code",
   "execution_count": 194,
   "metadata": {},
   "outputs": [
    {
     "data": {
      "image/png": "[encoded data removed]",
      "text/plain": [
       "<IPython.core.display.Image object>"
      ]
     },
     "execution_count": 194,
     "metadata": {},
     "output_type": "execute_result"
    }
   ],
   "source": [
    "from keras.utils import plot_model\n",
    "plot_model(model, to_file='model_plot3.png', show_shapes=True, show_layer_names=True)"
   ]
  },
  {
   "cell_type": "code",
   "execution_count": 195,
   "metadata": {},
   "outputs": [
    {
     "name": "stdout",
     "output_type": "stream",
     "text": [
      "Epoch 1/20\n",
      "521/521 [==============================] - 29s 56ms/step - loss: 0.2363 - acc: 0.8885 - val_loss: 0.1332 - val_acc: 0.9623\n",
      "Epoch 2/20\n",
      "521/521 [==============================] - 29s 56ms/step - loss: 0.1244 - acc: 0.9646 - val_loss: 0.1278 - val_acc: 0.9630\n",
      "Epoch 3/20\n",
      "521/521 [==============================] - 29s 55ms/step - loss: 0.1187 - acc: 0.9658 - val_loss: 0.1262 - val_acc: 0.9629\n",
      "Epoch 4/20\n",
      "521/521 [==============================] - 29s 56ms/step - loss: 0.1176 - acc: 0.9659 - val_loss: 0.1265 - val_acc: 0.9631\n",
      "Epoch 5/20\n",
      "521/521 [==============================] - 29s 56ms/step - loss: 0.1156 - acc: 0.9662 - val_loss: 0.1268 - val_acc: 0.9627\n",
      "Epoch 6/20\n",
      "521/521 [==============================] - 30s 57ms/step - loss: 0.1143 - acc: 0.9665 - val_loss: 0.1279 - val_acc: 0.9630\n",
      "Epoch 7/20\n",
      "521/521 [==============================] - 29s 56ms/step - loss: 0.1445 - acc: 0.9569 - val_loss: 0.1377 - val_acc: 0.9605\n",
      "Epoch 8/20\n",
      "521/521 [==============================] - 30s 57ms/step - loss: 0.1177 - acc: 0.9660 - val_loss: 0.1246 - val_acc: 0.9627\n",
      "Epoch 9/20\n",
      "521/521 [==============================] - 30s 57ms/step - loss: 0.1133 - acc: 0.9667 - val_loss: 0.1254 - val_acc: 0.9632\n",
      "Epoch 10/20\n",
      "521/521 [==============================] - 30s 58ms/step - loss: 0.1123 - acc: 0.9675 - val_loss: 0.1266 - val_acc: 0.9630\n",
      "Epoch 11/20\n",
      "521/521 [==============================] - 30s 58ms/step - loss: 0.1112 - acc: 0.9675 - val_loss: 0.1250 - val_acc: 0.9630\n",
      "Epoch 12/20\n",
      "521/521 [==============================] - 30s 58ms/step - loss: 0.1107 - acc: 0.9675 - val_loss: 0.1242 - val_acc: 0.9629\n",
      "Epoch 13/20\n",
      "521/521 [==============================] - 30s 58ms/step - loss: 0.1100 - acc: 0.9675 - val_loss: 0.1277 - val_acc: 0.9626\n",
      "Epoch 14/20\n",
      "521/521 [==============================] - 30s 58ms/step - loss: 0.1104 - acc: 0.9679 - val_loss: 0.1247 - val_acc: 0.9628\n",
      "Epoch 15/20\n",
      "521/521 [==============================] - 32s 61ms/step - loss: 0.1091 - acc: 0.9682 - val_loss: 0.1248 - val_acc: 0.9628\n",
      "Epoch 16/20\n",
      "521/521 [==============================] - 35s 68ms/step - loss: 0.1087 - acc: 0.9677 - val_loss: 0.1250 - val_acc: 0.9629\n",
      "Epoch 17/20\n",
      "521/521 [==============================] - 36s 69ms/step - loss: 0.1084 - acc: 0.9678 - val_loss: 0.1248 - val_acc: 0.9629\n",
      "Epoch 18/20\n",
      "521/521 [==============================] - 36s 69ms/step - loss: 0.1082 - acc: 0.9679 - val_loss: 0.1266 - val_acc: 0.9623\n",
      "Epoch 19/20\n",
      "521/521 [==============================] - 35s 67ms/step - loss: 0.1105 - acc: 0.9670 - val_loss: 0.1269 - val_acc: 0.9623\n",
      "Epoch 20/20\n",
      "521/521 [==============================] - 37s 70ms/step - loss: 0.1095 - acc: 0.9672 - val_loss: 0.1261 - val_acc: 0.9627\n"
     ]
    }
   ],
   "source": [
    "history = model.fit(x=[train_data, train_meta], y=labels_train, batch_size=128, epochs=20, verbose=1, validation_split=0.2)"
   ]
  },
  {
   "cell_type": "code",
   "execution_count": 196,
   "metadata": {},
   "outputs": [],
   "source": [
    "## To evaluate our model, we wil have to pass both the test inputs to the evaluate function"
   ]
  },
  {
   "cell_type": "code",
   "execution_count": 197,
   "metadata": {},
   "outputs": [
    {
     "name": "stdout",
     "output_type": "stream",
     "text": [
      "652/652 [==============================] - 8s 12ms/step - loss: 0.1123 - acc: 0.9679\n",
      "Test Accuracy: 0.9679355025291443\n"
     ]
    }
   ],
   "source": [
    "score = model.evaluate(x=[test_data, test_meta], y=labels_test, verbose=1)\n",
    "#print(\"Test Score:\", score[0])\n",
    "print(\"Test Accuracy:\", score[1])"
   ]
  },
  {
   "cell_type": "code",
   "execution_count": 198,
   "metadata": {},
   "outputs": [],
   "source": [
    "##let's now print the loss and accuracy for training and test sets"
   ]
  },
  {
   "cell_type": "code",
   "execution_count": 199,
   "metadata": {},
   "outputs": [
    {
     "data": {
      "image/png": "[encoded data removed]",
      "text/plain": [
       "<Figure size 432x288 with 1 Axes>"
      ]
     },
     "metadata": {
      "needs_background": "light"
     },
     "output_type": "display_data"
    },
    {
     "data": {
      "image/png": "[encoded data removed]",
      "text/plain": [
       "<Figure size 432x288 with 1 Axes>"
      ]
     },
     "metadata": {
      "needs_background": "light"
     },
     "output_type": "display_data"
    }
   ],
   "source": [
    "import matplotlib.pyplot as plt\n",
    "\n",
    "plt.plot(history.history['acc'])\n",
    "plt.plot(history.history['val_acc'])\n",
    "\n",
    "plt.title('model accuracy')\n",
    "plt.ylabel('accuracy')\n",
    "plt.xlabel('epoch')\n",
    "plt.legend(['train','test'], loc='upper left')\n",
    "plt.show()\n",
    "\n",
    "plt.plot(history.history['loss'])\n",
    "plt.plot(history.history['val_loss'])\n",
    "\n",
    "plt.title('model loss')\n",
    "plt.ylabel('loss')\n",
    "plt.xlabel('epoch')\n",
    "plt.legend(['train','test'], loc='upper left')\n",
    "plt.show()"
   ]
  },
  {
   "cell_type": "code",
   "execution_count": null,
   "metadata": {},
   "outputs": [],
   "source": []
  },
  {
   "cell_type": "code",
   "execution_count": null,
   "metadata": {},
   "outputs": [],
   "source": []
  },
  {
   "cell_type": "code",
   "execution_count": null,
   "metadata": {},
   "outputs": [],
   "source": []
  },
  {
   "cell_type": "markdown",
   "metadata": {},
   "source": [
    "X_train## Combine Textual Inputs and Numerical Inputs in scikit-learn"
   ]
  },
  {
   "cell_type": "code",
   "execution_count": 77,
   "metadata": {},
   "outputs": [],
   "source": [
    "## Num_dm contains a lot of empty strings in its columns we need to change them to numbers otherwise it will cause problem while running, i chose to replace with mean of each column"
   ]
  },
  {
   "cell_type": "code",
   "execution_count": 97,
   "metadata": {},
   "outputs": [],
   "source": [
    "Num_dm = Num_dm.replace(r'^\\s*$', np.NaN, regex=True)\n",
    "Num_dm = Num_dm.fillna(Num_dm.mean())"
   ]
  },
  {
   "cell_type": "code",
   "execution_count": null,
   "metadata": {},
   "outputs": [],
   "source": []
  },
  {
   "cell_type": "code",
   "execution_count": 98,
   "metadata": {},
   "outputs": [],
   "source": [
    "train_num = Num_dm[:int(len(Num_dm)*0.8)]\n",
    "test_num = Num_dm[int(len(Num_dm)*0.8):]"
   ]
  },
  {
   "cell_type": "code",
   "execution_count": null,
   "metadata": {},
   "outputs": [],
   "source": []
  },
  {
   "cell_type": "code",
   "execution_count": 92,
   "metadata": {},
   "outputs": [],
   "source": [
    "train_num['summary'] = X_train\n",
    "test_num['summary'] = X_test"
   ]
  },
  {
   "cell_type": "code",
   "execution_count": 93,
   "metadata": {},
   "outputs": [],
   "source": [
    "## also you need to change NaN values with other string or it will raise an error"
   ]
  },
  {
   "cell_type": "code",
   "execution_count": 94,
   "metadata": {},
   "outputs": [],
   "source": [
    "train_num['summary'] = train_num['summary'].fillna('none')\n",
    "test_num['summary'] = test_num['summary'].fillna('none')"
   ]
  },
  {
   "cell_type": "code",
   "execution_count": 95,
   "metadata": {},
   "outputs": [],
   "source": [
    "all_train = np.array(train_num.values)\n",
    "all_test = np.array(test_num.values)\n"
   ]
  },
  {
   "cell_type": "code",
   "execution_count": 102,
   "metadata": {},
   "outputs": [
    {
     "data": {
      "text/plain": [
       "numpy.ndarray"
      ]
     },
     "execution_count": 102,
     "metadata": {},
     "output_type": "execute_result"
    }
   ],
   "source": [
    "type(all_train)"
   ]
  },
  {
   "cell_type": "code",
   "execution_count": null,
   "metadata": {},
   "outputs": [],
   "source": []
  },
  {
   "cell_type": "code",
   "execution_count": null,
   "metadata": {},
   "outputs": [],
   "source": []
  },
  {
   "cell_type": "code",
   "execution_count": 265,
   "metadata": {},
   "outputs": [
    {
     "name": "stdout",
     "output_type": "stream",
     "text": [
      "Fitting 5 folds for each of 20 candidates, totalling 100 fits\n"
     ]
    },
    {
     "name": "stderr",
     "output_type": "stream",
     "text": [
      "[Parallel(n_jobs=-1)]: Using backend LokyBackend with 8 concurrent workers.\n",
      "[Parallel(n_jobs=-1)]: Done  34 tasks      | elapsed:   11.8s\n",
      "[Parallel(n_jobs=-1)]: Done 100 out of 100 | elapsed:   31.6s finished\n"
     ]
    }
   ],
   "source": [
    "import numpy as np\n",
    "from sklearn.feature_extraction.text import TfidfVectorizer\n",
    "from sklearn.pipeline import Pipeline, FeatureUnion\n",
    "from sklearn.ensemble import RandomForestClassifier\n",
    "from sklearn.preprocessing import FunctionTransformer\n",
    "from sklearn.model_selection import GridSearchCV, StratifiedKFold\n",
    "\n",
    "# Create Function Transformer to use Feature Union\n",
    "def get_numeric_data(x):\n",
    "    return [record[:-2].astype(float) for record in x]\n",
    "\n",
    "def get_text_data(x):\n",
    "    return [record[-1] for record in x]\n",
    "\n",
    "transfomer_numeric = FunctionTransformer(get_numeric_data)\n",
    "transformer_text = FunctionTransformer(get_text_data)\n",
    "\n",
    "#transfomer_numeric = FunctionTransformer(Num_dm)\n",
    "#transformer_text = FunctionTransformer(text_dm)\n",
    "\n",
    "# Create a pipeline to concatenate Tfidf Vector and Numeric data\n",
    "# Use RandomForestClassifier as an example\n",
    "pipeline = Pipeline([\n",
    "    ('features', FeatureUnion([\n",
    "            ('numeric_features', Pipeline([\n",
    "                ('selector', transfomer_numeric)\n",
    "            ])),\n",
    "             ('text_features', Pipeline([\n",
    "                ('selector', transformer_text),\n",
    "                ('vec', TfidfVectorizer(analyzer='word'))\n",
    "            ]))\n",
    "         ])),\n",
    "    ('clf', RandomForestClassifier())\n",
    "])\n",
    "\n",
    "# Grid Search Parameters for RandomForest\n",
    "param_grid = {'clf__n_estimators': np.linspace(1, 100, 10, dtype=int),\n",
    "              'clf__min_samples_split': [3, 10],\n",
    "              'clf__min_samples_leaf': [3],\n",
    "              'clf__max_features': [10],\n",
    "              'clf__max_depth': [None],\n",
    "              'clf__criterion': ['gini'],\n",
    "              'clf__bootstrap': [False]}\n",
    "\n",
    "# Training config\n",
    "kfold = StratifiedKFold(n_splits=5)\n",
    "scoring = {'Accuracy': 'accuracy', 'F1': 'f1_macro'}\n",
    "refit = 'F1'\n",
    "\n",
    "# Perform GridSearch\n",
    "rf_model = GridSearchCV(pipeline, param_grid=param_grid, cv=kfold, scoring=scoring, \n",
    "                         refit=refit, n_jobs=-1, return_train_score=True, verbose=1)\n",
    "## comment the line below\n",
    "rf_model.fit(all_train[:20000], y_train[:20000])\n",
    "## use the line below instead of the above to train the model on the whole data\n",
    "#rf_model.fit(all_train, y_train)\n",
    "rf_best = rf_model.best_estimator_"
   ]
  },
  {
   "cell_type": "code",
   "execution_count": 268,
   "metadata": {},
   "outputs": [],
   "source": [
    "all_test = rf_model.best_estimator_.named_steps['features'].transform(all_test)\n",
    "y_pred = rf_model.best_estimator_.named_steps['clf'].predict(all_test)"
   ]
  },
  {
   "cell_type": "code",
   "execution_count": 269,
   "metadata": {},
   "outputs": [
    {
     "data": {
      "text/plain": [
       "array([0, 0, 0, ..., 0, 0, 0])"
      ]
     },
     "execution_count": 269,
     "metadata": {},
     "output_type": "execute_result"
    }
   ],
   "source": [
    "y_pred"
   ]
  },
  {
   "cell_type": "code",
   "execution_count": 274,
   "metadata": {},
   "outputs": [
    {
     "name": "stdout",
     "output_type": "stream",
     "text": [
      "the accuracy score is : 0.6660106561704987\n"
     ]
    }
   ],
   "source": [
    "from sklearn.metrics import accuracy_score\n",
    "print(\"the accuracy score is : \"+ str(accuracy_score(y_test, y_pred)))"
   ]
  },
  {
   "cell_type": "code",
   "execution_count": 275,
   "metadata": {},
   "outputs": [
    {
     "data": {
      "text/plain": [
       "array([[13866,    12],\n",
       "       [ 6946,     9]])"
      ]
     },
     "execution_count": 275,
     "metadata": {},
     "output_type": "execute_result"
    }
   ],
   "source": [
    "from sklearn.metrics import confusion_matrix\n",
    "confusion_matrix(y_test, y_pred)\n"
   ]
  },
  {
   "cell_type": "code",
   "execution_count": null,
   "metadata": {},
   "outputs": [],
   "source": []
  },
  {
   "cell_type": "code",
   "execution_count": null,
   "metadata": {},
   "outputs": [],
   "source": []
  }
 ],
 "metadata": {
  "kernelspec": {
   "display_name": "Python 3",
   "language": "python",
   "name": "python3"
  },
  "language_info": {
   "codemirror_mode": {
    "name": "ipython",
    "version": 3
   },
   "file_extension": ".py",
   "mimetype": "text/x-python",
   "name": "python",
   "nbconvert_exporter": "python",
   "pygments_lexer": "ipython3",
   "version": "3.8.3"
  }
 },
 "nbformat": 4,
 "nbformat_minor": 5
}
